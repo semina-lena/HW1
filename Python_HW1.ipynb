{
 "cells": [
  {
   "cell_type": "markdown",
   "metadata": {},
   "source": [
    "Задание 1. Сравнение длины строк"
   ]
  },
  {
   "cell_type": "code",
   "execution_count": 21,
   "metadata": {},
   "outputs": [
    {
     "name": "stdout",
     "output_type": "stream",
     "text": [
      "Фразы равной длины\n"
     ]
    }
   ],
   "source": [
    "phrase_1 = 'Насколько проще было бы писать программы, если бы не заказчики'\n",
    "phrase_2 = 'Насколько проще было бы писать программы, если бы не заказчики'\n",
    "\n",
    "if len(phrase_1) > len(phrase_2):\n",
    "    print('Фраза 1 длиннее фразы 2')\n",
    "elif len(phrase_1) < len(phrase_2):\n",
    "    print('Фраза 2 длиннее фразы 1')\n",
    "else:\n",
    "    print('Фразы равной длины')\n"
   ]
  },
  {
   "cell_type": "markdown",
   "metadata": {},
   "source": [
    "Задание 2. Опрделение високосного года"
   ]
  },
  {
   "cell_type": "code",
   "execution_count": 22,
   "metadata": {},
   "outputs": [
    {
     "name": "stdout",
     "output_type": "stream",
     "text": [
      "Введите год2020\n",
      "Это високосный год\n"
     ]
    }
   ],
   "source": [
    "year=int(input('Введите год'))\n",
    "if year % 100 == 0 and year % 400 !=0:\n",
    "    print('Это обычный год')\n",
    "elif year % 4 == 0:\n",
    "    print('Это високосный год')\n",
    "else:\n",
    "    print('Это обычный год')"
   ]
  },
  {
   "cell_type": "markdown",
   "metadata": {},
   "source": [
    "Задание 3. Определяем знак зодиака"
   ]
  },
  {
   "cell_type": "code",
   "execution_count": 31,
   "metadata": {},
   "outputs": [
    {
     "name": "stdout",
     "output_type": "stream",
     "text": [
      "Введите день15\n",
      "Введите месяцмарт\n",
      "Ваш знак зодиака: Рыбы\n"
     ]
    }
   ],
   "source": [
    "day=int(input('Введите день'))\n",
    "month=input('Введите месяц')\n",
    "\n",
    "if (month == 'декабрь' and 22<day<=31) or (month == 'январь' and 1<day<=19):\n",
    "    print('Ваш знак зодиака: Козерог')\n",
    "elif (month == 'январь' and 20<day<=31) or (month == 'февраль' and 1<day<=18):\n",
    "    print('Ваш знак зодиака: Водолей')\n",
    "elif (month == 'февраль' and 19<day<=29) or (month == 'март'  and 1<day<=20):\n",
    "    print('Ваш знак зодиака: Рыбы')\n",
    "elif (month == 'март' and day<=31) or (month == 'апрель' and 1<day<=19):\n",
    "    print('Ваш знак зодиака: Овен')\n",
    "elif (month == 'апрель' and 20<day<=30) or (month == 'май' and 1<day<=20):\n",
    "    print('Ваш знак зодиака: Телец')\n",
    "elif (month == 'май' and 21<day<=31) or (month == 'июнь' and day<=20):\n",
    "    print('Ваш знак зодиака: Близнецы')\n",
    "elif (month == 'июнь' and 21<day<=30)  or (month == 'июль' and 1<day<=22):\n",
    "    print('Ваш знак зодиака: Рак')\n",
    "elif (month == 'июль' and 23<day<=31) or (month == 'август' and 1<day<=22):\n",
    "    print('Ваш знак зодиака: Лев')\n",
    "elif (month == 'август' and 23<day<=31) or (month == 'сентябрь' and 1<day<=22):\n",
    "    print('Ваш знак зодиака: Дева')\n",
    "elif (month == 'сентябрь' and 23<day<=30) or (month == 'октябрь' and 1<day<=22):\n",
    "    print('Ваш знак зодиака: Весы')\n",
    "elif (month == 'октябрь' and 23<day<=31) or (month == 'ноябрь' and 1<day<=21):\n",
    "    print('Ваш знак зодиака: Скорпион')\n",
    "elif (month == 'ноябрь' and 22<day<=30) or (month == 'декабрь' and 1<day<=21):\n",
    "    print('Ваш знак зодиака: Стрелец')\n",
    "else:\n",
    "    print('Некорректная дата рождения')\n"
   ]
  },
  {
   "cell_type": "markdown",
   "metadata": {},
   "source": [
    "Задание 4. Подбор размера коробки"
   ]
  },
  {
   "cell_type": "code",
   "execution_count": 24,
   "metadata": {},
   "outputs": [
    {
     "name": "stdout",
     "output_type": "stream",
     "text": [
      "Коробка №2\n"
     ]
    }
   ],
   "source": [
    "width = 18\n",
    "length = 65\n",
    "height = 12\n",
    "\n",
    "if width < 15 and length < 15 and height < 15:\n",
    "    print('Коробка №1')\n",
    "elif length > 200:\n",
    "    print('Упаковка для лыж')\n",
    "elif width < 50 or length < 50 or height < 50:\n",
    "    print('Коробка №2') \n",
    "else:\n",
    "    print('Стандартная коробка №3')"
   ]
  },
  {
   "cell_type": "markdown",
   "metadata": {},
   "source": [
    "Задание 5. Определение счастливого билета"
   ]
  },
  {
   "cell_type": "code",
   "execution_count": 25,
   "metadata": {},
   "outputs": [
    {
     "name": "stdout",
     "output_type": "stream",
     "text": [
      "Введите номер билета563415\n",
      "Обычный билет\n"
     ]
    }
   ],
   "source": [
    "number = int(input('Введите номер билета'))\n",
    "num_1 = number//100000\n",
    "num_2 = number//10000-num_1*10\n",
    "num_3 = number//1000-number//10000*10\n",
    "num_4 = number//100-number//1000*10\n",
    "num_5 = number//10-number//100*10\n",
    "num_6 = number-number//10*10\n",
    "\n",
    "if num_1 + num_2 + num_3 == num_4 + num_5 + num_6:\n",
    "    print('Счастливый билет')\n",
    "else:\n",
    "    print('Обычный билет')"
   ]
  },
  {
   "cell_type": "markdown",
   "metadata": {},
   "source": [
    "Задвние 6. Вычисление площади фигуры"
   ]
  },
  {
   "cell_type": "code",
   "execution_count": 26,
   "metadata": {},
   "outputs": [
    {
     "name": "stdout",
     "output_type": "stream",
     "text": [
      "Введите тип фигурыкруг\n",
      "Ведите радиус круга27\n",
      "Площадь круга: 2289.06\n"
     ]
    }
   ],
   "source": [
    "form = input('Введите тип фигуры')\n",
    "form.lower()\n",
    "if form == 'Круг' or form == 'круг':\n",
    "    r = int(input('Ведите радиус круга'))\n",
    "    s_circle = 3.14 * (r**2)\n",
    "    print('Площадь круга:', s_circle)\n",
    "elif form == 'Прямоугольник' or form == 'прямоугольник':\n",
    "    a = int(input('Введите длину стороны a'))\n",
    "    b = int(input('Введите длину стороны b'))\n",
    "    s_rectangle=a*b\n",
    "    print('Площадь прямоугольника:', s_rectangle)\n",
    "elif form == 'Треугольник' or form=='треугольник':\n",
    "    ab = int(input('Введите длину стороны ab'))\n",
    "    bc = int(input('Введите длину стороны bc'))\n",
    "    ac = int(input('Введите длину стороны ac'))\n",
    "    p = (ab + bc + ca)/2\n",
    "    s_triangle = (p*(p-ab)*(p-bc)*(p-ac))**0.5\n",
    "    print('Площадь треугольника:', s_triangle)\n",
    "else:\n",
    "    print('Некорректный тип фигуры')"
   ]
  },
  {
   "cell_type": "code",
   "execution_count": null,
   "metadata": {},
   "outputs": [],
   "source": []
  },
  {
   "cell_type": "code",
   "execution_count": null,
   "metadata": {},
   "outputs": [],
   "source": []
  }
 ],
 "metadata": {
  "kernelspec": {
   "display_name": "Python 3",
   "language": "python",
   "name": "python3"
  },
  "language_info": {
   "codemirror_mode": {
    "name": "ipython",
    "version": 3
   },
   "file_extension": ".py",
   "mimetype": "text/x-python",
   "name": "python",
   "nbconvert_exporter": "python",
   "pygments_lexer": "ipython3",
   "version": "3.8.5"
  }
 },
 "nbformat": 4,
 "nbformat_minor": 4
}
