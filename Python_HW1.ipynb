{
 "cells": [
  {
   "cell_type": "markdown",
   "metadata": {},
   "source": [
    "Задание 1. Сравнение длины строк"
   ]
  },
  {
   "cell_type": "code",
   "execution_count": 1,
   "metadata": {},
   "outputs": [
    {
     "name": "stdout",
     "output_type": "stream",
     "text": [
      "Фразы равной длины\n"
     ]
    }
   ],
   "source": [
    "phrase_1 = 'Насколько проще было бы писать программы, если бы не заказчики'\n",
    "phrase_2 = 'Насколько проще было бы писать программы, если бы не заказчики'\n",
    "\n",
    "if len(phrase_1) > len(phrase_2):\n",
    "    print ('Фраза 1 длиннее фразы 2')\n",
    "elif len(phrase_1) < len(phrase_2):\n",
    "    print ('Фраза 2 длиннее фразы 1')\n",
    "else:\n",
    "    print ('Фразы равной длины')\n"
   ]
  },
  {
   "cell_type": "markdown",
   "metadata": {},
   "source": [
    "Задание 2. Опрделение високосного года"
   ]
  },
  {
   "cell_type": "code",
   "execution_count": 21,
   "metadata": {},
   "outputs": [
    {
     "name": "stdout",
     "output_type": "stream",
     "text": [
      "Введите год1967\n",
      "Это обычный год\n"
     ]
    }
   ],
   "source": [
    "year=int(input('Введите год'))\n",
    "if year%4==0:\n",
    "    print('Это високосный год')\n",
    "else:\n",
    "    print('Это обычный год')"
   ]
  },
  {
   "cell_type": "markdown",
   "metadata": {},
   "source": [
    "Задание 3. Определяем знак зодиака"
   ]
  },
  {
   "cell_type": "code",
   "execution_count": 38,
   "metadata": {},
   "outputs": [
    {
     "name": "stdout",
     "output_type": "stream",
     "text": [
      "Введите день07\n",
      "Введите месяциюнь\n",
      "Ваш знак зодиака: Близнецы\n"
     ]
    }
   ],
   "source": [
    "day=int(input('Введите день'))\n",
    "month=input('Введите месяц')\n",
    "\n",
    "if (month=='январь' or month=='Январь') and day<=19:\n",
    "    print('Ваш знак зодиака: Козерог')\n",
    "elif (month=='январь' or month=='Январь') and day<=31:\n",
    "    print('Ваш знак зодиака: Водолей')\n",
    "elif (month=='февраль' or month=='Февраль') and day<=18:\n",
    "    print('Ваш знак зодиака: Водолей')\n",
    "elif (month=='февраль' or month=='Февраль') and day<=29:\n",
    "    print('Ваш знак зодиака: Рыбы')\n",
    "elif (month=='март' or month=='Март') and day<=20:\n",
    "    print('Ваш знак зодиака: Рыбы')\n",
    "elif (month=='март' or month=='Март') and day<=31:\n",
    "    print('Ваш знак зодиака: Овен')\n",
    "elif (month=='апрель' or month=='Апрель') and day<=19:\n",
    "    print('Ваш знак зодиака: Овен')\n",
    "elif (month=='апрель' or month=='Апрель') and day<=30:\n",
    "    print('Ваш знак зодиака: Телец')\n",
    "elif (month=='май' or month=='Май') and day<=20:\n",
    "    print('Ваш знак зодиака: Телец')\n",
    "elif (month=='май' or month=='Май') and day<=31:\n",
    "    print('Ваш знак зодиака: Близнецы')\n",
    "elif (month=='июнь' or month=='Июнь') and day<=20:\n",
    "    print('Ваш знак зодиака: Близнецы')\n",
    "elif (month=='июнь' or month=='Июнь') and day<=30:\n",
    "    print('Ваш знак зодиака: Рак')\n",
    "elif (month=='июль' or month=='Июль') and day<=22:\n",
    "    print('Ваш знак зодиака: Рак')\n",
    "elif (month=='июль' or month=='Июль') and day<=31:\n",
    "    print('Ваш знак зодиака: Лев')\n",
    "elif (month=='август' or month=='Август') and day<=22:\n",
    "    print('Ваш знак зодиака: Лев')\n",
    "elif (month=='август' or month=='Август') and day<=31:\n",
    "    print('Ваш знак зодиака: Дева')\n",
    "elif (month=='сентябрь' or month=='Сентябрь') and day<=22:\n",
    "    print('Ваш знак зодиака: Дева')\n",
    "elif (month=='сентябрь' or month=='Сентябрь') and day<=30:\n",
    "    print('Ваш знак зодиака: Весы')\n",
    "elif (month=='октябрь' or month=='Октябрь') and day<=22:\n",
    "    print('Ваш знак зодиака: Весы')\n",
    "elif (month=='октябрь' or month=='Октябрь') and day<=31:\n",
    "    print('Ваш знак зодиака: Скорпион')\n",
    "elif (month=='ноябрь' or month=='Ноябрь') and day<=21:\n",
    "    print('Ваш знак зодиака: Скорпион')\n",
    "elif (month=='ноябрь' or month=='Ноябрь') and day<=30:\n",
    "    print('Ваш знак зодиака: Стрелец')\n",
    "elif (month=='декабрь' or month=='Декабрь') and day<=21:\n",
    "    print('Ваш знак зодиака: Стрелец')\n",
    "elif (month=='декабрь' or month=='Декабрь') and day<=31:\n",
    "    print('Ваш знак зодиака: Козерог')    \n",
    "else:\n",
    "    print('Некорректная дата рождения')\n"
   ]
  },
  {
   "cell_type": "markdown",
   "metadata": {},
   "source": [
    "Задание 4. Подбор размера коробки"
   ]
  },
  {
   "cell_type": "code",
   "execution_count": null,
   "metadata": {},
   "outputs": [],
   "source": [
    "width=10\n",
    "length=650\n",
    "height=45\n",
    "\n",
    "if width<15 and length<15 and height<15:\n",
    "    print('Коробка №1')\n",
    "elif width<50 and length<50 and height<50:\n",
    "    print('Коробка №2') \n",
    "elif length>200:\n",
    "    print('Упаковка для лыж')\n",
    "else:\n",
    "    print('Стандартная коробка №3')"
   ]
  },
  {
   "cell_type": "markdown",
   "metadata": {},
   "source": [
    "Задание 5. Определение счастливого билета"
   ]
  },
  {
   "cell_type": "code",
   "execution_count": 2,
   "metadata": {},
   "outputs": [
    {
     "name": "stdout",
     "output_type": "stream",
     "text": [
      "Введите номер билета123123\n",
      "Счастливый билет\n"
     ]
    }
   ],
   "source": [
    "number=int(input('Введите номер билета'))\n",
    "num_1=number//100000\n",
    "num_2=number//10000-num_1*10\n",
    "num_3=number//1000-number//10000*10\n",
    "num_4=number//100-number//1000*10\n",
    "num_5=number//10-number//100*10\n",
    "num_6=number-number//10*10\n",
    "\n",
    "if num_1+num_2+num_3==num_4+num_5+num_6:\n",
    "    print('Счастливый билет')\n",
    "else:\n",
    "    print('Обычный билет')"
   ]
  },
  {
   "cell_type": "markdown",
   "metadata": {},
   "source": [
    "Задвние 6. Вычисление площади фигуры"
   ]
  },
  {
   "cell_type": "code",
   "execution_count": 3,
   "metadata": {},
   "outputs": [
    {
     "name": "stdout",
     "output_type": "stream",
     "text": [
      "Введите тип фигурыкруг\n",
      "Ведите радиус круга10\n"
     ]
    },
    {
     "ename": "TypeError",
     "evalue": "can't multiply sequence by non-int of type 'str'",
     "output_type": "error",
     "traceback": [
      "\u001b[1;31m---------------------------------------------------------------------------\u001b[0m",
      "\u001b[1;31mTypeError\u001b[0m                                 Traceback (most recent call last)",
      "\u001b[1;32m<ipython-input-3-0d6f3f92a956>\u001b[0m in \u001b[0;36m<module>\u001b[1;34m\u001b[0m\n\u001b[0;32m      2\u001b[0m \u001b[1;32mif\u001b[0m \u001b[0mform\u001b[0m\u001b[1;33m==\u001b[0m\u001b[1;34m'Круг'\u001b[0m\u001b[1;32mor\u001b[0m \u001b[1;34m'круг'\u001b[0m\u001b[1;33m:\u001b[0m\u001b[1;33m\u001b[0m\u001b[1;33m\u001b[0m\u001b[0m\n\u001b[0;32m      3\u001b[0m     \u001b[0mr\u001b[0m\u001b[1;33m=\u001b[0m\u001b[0minput\u001b[0m\u001b[1;33m(\u001b[0m\u001b[1;34m'Ведите радиус круга'\u001b[0m\u001b[1;33m)\u001b[0m\u001b[1;33m\u001b[0m\u001b[1;33m\u001b[0m\u001b[0m\n\u001b[1;32m----> 4\u001b[1;33m     \u001b[0ms_round\u001b[0m\u001b[1;33m=\u001b[0m\u001b[0mfloat\u001b[0m\u001b[1;33m(\u001b[0m\u001b[0mr\u001b[0m\u001b[1;33m*\u001b[0m\u001b[0mr\u001b[0m\u001b[1;33m*\u001b[0m\u001b[1;36m3.14\u001b[0m\u001b[1;33m)\u001b[0m\u001b[1;33m\u001b[0m\u001b[1;33m\u001b[0m\u001b[0m\n\u001b[0m\u001b[0;32m      5\u001b[0m     \u001b[0mprint\u001b[0m\u001b[1;33m(\u001b[0m\u001b[1;34m'Площадь круга:'\u001b[0m \u001b[1;34m's_round'\u001b[0m\u001b[1;33m)\u001b[0m\u001b[1;33m\u001b[0m\u001b[1;33m\u001b[0m\u001b[0m\n",
      "\u001b[1;31mTypeError\u001b[0m: can't multiply sequence by non-int of type 'str'"
     ]
    }
   ],
   "source": [
    "form=input('Введите тип фигуры')\n",
    "if form=='Круг'or 'круг':\n",
    "    r=input('Ведите радиус круга')\n",
    "    s_round=float(r*r*3.14)\n",
    "    print('Площадь круга:' 's_round')"
   ]
  },
  {
   "cell_type": "code",
   "execution_count": null,
   "metadata": {},
   "outputs": [],
   "source": []
  }
 ],
 "metadata": {
  "kernelspec": {
   "display_name": "Python 3",
   "language": "python",
   "name": "python3"
  },
  "language_info": {
   "codemirror_mode": {
    "name": "ipython",
    "version": 3
   },
   "file_extension": ".py",
   "mimetype": "text/x-python",
   "name": "python",
   "nbconvert_exporter": "python",
   "pygments_lexer": "ipython3",
   "version": "3.8.5"
  }
 },
 "nbformat": 4,
 "nbformat_minor": 4
}
