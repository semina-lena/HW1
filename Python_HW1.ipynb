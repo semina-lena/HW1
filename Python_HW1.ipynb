{
 "cells": [
  {
   "cell_type": "markdown",
   "metadata": {},
   "source": [
    "Задание 1. Сравнение длины строк"
   ]
  },
  {
   "cell_type": "code",
   "execution_count": null,
   "metadata": {},
   "outputs": [],
   "source": [
    "phrase_1 = 'Насколько проще было бы писать программы, если бы не заказчики'\n",
    "phrase_2 = 'Насколько проще было бы писать программы, если бы не заказчики'\n",
    "\n",
    "if len(phrase_1) > len(phrase_2):\n",
    "    print ('Фраза 1 длиннее фразы 2')\n",
    "elif len(phrase_1) < len(phrase_2):\n",
    "    print ('Фраза 2 длиннее фразы 1')\n",
    "else:\n",
    "    print ('Фразы равной длины')\n"
   ]
  },
  {
   "cell_type": "markdown",
   "metadata": {},
   "source": [
    "Задание 2. Опрделение високосного года"
   ]
  },
  {
   "cell_type": "code",
   "execution_count": null,
   "metadata": {},
   "outputs": [],
   "source": [
    "year=int(input('Введите год'))\n",
    "if year%4==0:\n",
    "    print('Это високосный год')\n",
    "else:\n",
    "    print('Это обычный год')"
   ]
  },
  {
   "cell_type": "markdown",
   "metadata": {},
   "source": [
    "Задание 3. Определяем знак зодиака"
   ]
  },
  {
   "cell_type": "code",
   "execution_count": null,
   "metadata": {},
   "outputs": [],
   "source": [
    "day=int(input('Введите день'))\n",
    "month=input('Введите месяц')\n",
    "\n",
    "if (month=='январь' or month=='Январь') and day<=19:\n",
    "    print('Ваш знак зодиака: Козерог')\n",
    "elif (month=='январь' or month=='Январь') and day<=31:\n",
    "    print('Ваш знак зодиака: Водолей')\n",
    "elif (month=='февраль' or month=='Февраль') and day<=18:\n",
    "    print('Ваш знак зодиака: Водолей')\n",
    "elif (month=='февраль' or month=='Февраль') and day<=29:\n",
    "    print('Ваш знак зодиака: Рыбы')\n",
    "elif (month=='март' or month=='Март') and day<=20:\n",
    "    print('Ваш знак зодиака: Рыбы')\n",
    "elif (month=='март' or month=='Март') and day<=31:\n",
    "    print('Ваш знак зодиака: Овен')\n",
    "elif (month=='апрель' or month=='Апрель') and day<=19:\n",
    "    print('Ваш знак зодиака: Овен')\n",
    "elif (month=='апрель' or month=='Апрель') and day<=30:\n",
    "    print('Ваш знак зодиака: Телец')\n",
    "elif (month=='май' or month=='Май') and day<=20:\n",
    "    print('Ваш знак зодиака: Телец')\n",
    "elif (month=='май' or month=='Май') and day<=31:\n",
    "    print('Ваш знак зодиака: Близнецы')\n",
    "elif (month=='июнь' or month=='Июнь') and day<=20:\n",
    "    print('Ваш знак зодиака: Близнецы')\n",
    "elif (month=='июнь' or month=='Июнь') and day<=30:\n",
    "    print('Ваш знак зодиака: Рак')\n",
    "elif (month=='июль' or month=='Июль') and day<=22:\n",
    "    print('Ваш знак зодиака: Рак')\n",
    "elif (month=='июль' or month=='Июль') and day<=31:\n",
    "    print('Ваш знак зодиака: Лев')\n",
    "elif (month=='август' or month=='Август') and day<=22:\n",
    "    print('Ваш знак зодиака: Лев')\n",
    "elif (month=='август' or month=='Август') and day<=31:\n",
    "    print('Ваш знак зодиака: Дева')\n",
    "elif (month=='сентябрь' or month=='Сентябрь') and day<=22:\n",
    "    print('Ваш знак зодиака: Дева')\n",
    "elif (month=='сентябрь' or month=='Сентябрь') and day<=30:\n",
    "    print('Ваш знак зодиака: Весы')\n",
    "elif (month=='октябрь' or month=='Октябрь') and day<=22:\n",
    "    print('Ваш знак зодиака: Весы')\n",
    "elif (month=='октябрь' or month=='Октябрь') and day<=31:\n",
    "    print('Ваш знак зодиака: Скорпион')\n",
    "elif (month=='ноябрь' or month=='Ноябрь') and day<=21:\n",
    "    print('Ваш знак зодиака: Скорпион')\n",
    "elif (month=='ноябрь' or month=='Ноябрь') and day<=30:\n",
    "    print('Ваш знак зодиака: Стрелец')\n",
    "elif (month=='декабрь' or month=='Декабрь') and day<=21:\n",
    "    print('Ваш знак зодиака: Стрелец')\n",
    "elif (month=='декабрь' or month=='Декабрь') and day<=31:\n",
    "    print('Ваш знак зодиака: Козерог')    \n",
    "else:\n",
    "    print('Некорректная дата рождения')\n"
   ]
  },
  {
   "cell_type": "markdown",
   "metadata": {},
   "source": [
    "Задание 4. Подбор размера коробки"
   ]
  },
  {
   "cell_type": "code",
   "execution_count": null,
   "metadata": {},
   "outputs": [],
   "source": [
    "width=10\n",
    "length=650\n",
    "height=45\n",
    "\n",
    "if width<15 and length<15 and height<15:\n",
    "    print('Коробка №1')\n",
    "elif width<50 and length<50 and height<50:\n",
    "    print('Коробка №2') \n",
    "elif length>200:\n",
    "    print('Упаковка для лыж')\n",
    "else:\n",
    "    print('Стандартная коробка №3')"
   ]
  },
  {
   "cell_type": "markdown",
   "metadata": {},
   "source": [
    "Задание 5. Определение счастливого билета"
   ]
  },
  {
   "cell_type": "code",
   "execution_count": null,
   "metadata": {},
   "outputs": [],
   "source": [
    "number=int(input('Введите номер билета'))\n",
    "num_1=number//100000\n",
    "num_2=number//10000-num_1*10\n",
    "num_3=number//1000-number//10000*10\n",
    "num_4=number//100-number//1000*10\n",
    "num_5=number//10-number//100*10\n",
    "num_6=number-number//10*10\n",
    "\n",
    "if num_1+num_2+num_3==num_4+num_5+num_6:\n",
    "    print('Счастливый билет')\n",
    "else:\n",
    "    print('Обычный билет')"
   ]
  },
  {
   "cell_type": "markdown",
   "metadata": {},
   "source": [
    "Задвние 6. Вычисление площади фигуры"
   ]
  },
  {
   "cell_type": "code",
   "execution_count": 10,
   "metadata": {},
   "outputs": [
    {
     "name": "stdout",
     "output_type": "stream",
     "text": [
      "Введите тип фигурырпва\n",
      "Некорректный тип фигуры\n"
     ]
    }
   ],
   "source": [
    "form=input('Введите тип фигуры')\n",
    "if form=='Круг' or form=='круг':\n",
    "    r=int(input('Ведите радиус круга'))\n",
    "    s_circle=3.14*(r**2)\n",
    "    print('Площадь круга:', s_circle)\n",
    "elif form=='Прямоугольник' or form=='прямоугольник':\n",
    "    a=int(input('Введите длину стороны a'))\n",
    "    b=int(input('Введите длину стороны b'))\n",
    "    s_rectangle=a*b\n",
    "    print('Площадь прямоугольника:', s_rectangle)\n",
    "elif form=='Треугольник' or form=='треугольник':\n",
    "    ab=int(input('Введите длину стороны ab'))\n",
    "    bc=int(input('Введите длину стороны bc'))\n",
    "    ac=int(input('Введите длину стороны ac'))\n",
    "    p=(ab+bc+ca)/2\n",
    "    s_triangle=(p*(p-ab)*(p-bc)*(p-ac))**0.5\n",
    "    print('Площадь треугольника:', s_triangle)\n",
    "else:\n",
    "    print('Некорректный тип фигуры')"
   ]
  },
  {
   "cell_type": "code",
   "execution_count": null,
   "metadata": {},
   "outputs": [],
   "source": []
  },
  {
   "cell_type": "code",
   "execution_count": null,
   "metadata": {},
   "outputs": [],
   "source": []
  }
 ],
 "metadata": {
  "kernelspec": {
   "display_name": "Python 3",
   "language": "python",
   "name": "python3"
  },
  "language_info": {
   "codemirror_mode": {
    "name": "ipython",
    "version": 3
   },
   "file_extension": ".py",
   "mimetype": "text/x-python",
   "name": "python",
   "nbconvert_exporter": "python",
   "pygments_lexer": "ipython3",
   "version": "3.8.5"
  }
 },
 "nbformat": 4,
 "nbformat_minor": 4
}
